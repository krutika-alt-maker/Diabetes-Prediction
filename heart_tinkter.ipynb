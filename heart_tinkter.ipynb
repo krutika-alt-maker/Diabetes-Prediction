{
 "cells": [
  {
   "cell_type": "markdown",
   "metadata": {},
   "source": [
    "# IMPORTING  LIBRARIES"
   ]
  },
  {
   "cell_type": "code",
   "execution_count": 2,
   "metadata": {},
   "outputs": [
    {
     "name": "stderr",
     "output_type": "stream",
     "text": [
      "C:\\Users\\Admin\\Anaconda3\\lib\\importlib\\_bootstrap.py:219: RuntimeWarning: numpy.ufunc size changed, may indicate binary incompatibility. Expected 192 from C header, got 216 from PyObject\n",
      "  return f(*args, **kwds)\n",
      "C:\\Users\\Admin\\Anaconda3\\lib\\importlib\\_bootstrap.py:219: RuntimeWarning: numpy.ufunc size changed, may indicate binary incompatibility. Expected 192 from C header, got 216 from PyObject\n",
      "  return f(*args, **kwds)\n",
      "C:\\Users\\Admin\\Anaconda3\\lib\\importlib\\_bootstrap.py:219: RuntimeWarning: numpy.ufunc size changed, may indicate binary incompatibility. Expected 216, got 192\n",
      "  return f(*args, **kwds)\n",
      "C:\\Users\\Admin\\Anaconda3\\lib\\importlib\\_bootstrap.py:219: RuntimeWarning: numpy.ufunc size changed, may indicate binary incompatibility. Expected 192 from C header, got 216 from PyObject\n",
      "  return f(*args, **kwds)\n"
     ]
    }
   ],
   "source": [
    "import pandas as pd\n",
    "import matplotlib.pyplot as plt\n",
    "import seaborn as sns"
   ]
  },
  {
   "cell_type": "markdown",
   "metadata": {},
   "source": [
    "# READING CSV FILE"
   ]
  },
  {
   "cell_type": "code",
   "execution_count": 3,
   "metadata": {},
   "outputs": [],
   "source": [
    "df=pd.read_csv('heart.csv')"
   ]
  },
  {
   "cell_type": "markdown",
   "metadata": {},
   "source": [
    "# COLOUMS IN THE CSV FILE"
   ]
  },
  {
   "cell_type": "code",
   "execution_count": 4,
   "metadata": {},
   "outputs": [
    {
     "name": "stdout",
     "output_type": "stream",
     "text": [
      "Index(['age', 'sex', 'cp', 'trestbps', 'chol', 'fbs', 'restecg', 'thalach',\n",
      "       'exang', 'oldpeak', 'slope', 'ca', 'thal', 'target'],\n",
      "      dtype='object')\n"
     ]
    }
   ],
   "source": [
    "print(df.columns)"
   ]
  },
  {
   "cell_type": "markdown",
   "metadata": {},
   "source": [
    "# DECLARING DEPENDENT AND INDEPENDENT VARIABLE"
   ]
  },
  {
   "cell_type": "code",
   "execution_count": 5,
   "metadata": {},
   "outputs": [],
   "source": [
    "feature_names = ['age', 'sex', 'cp', 'trestbps', 'chol', 'fbs', 'restecg', 'thalach','exang', 'oldpeak', 'slope', 'ca', 'thal']\n",
    "X = df[feature_names]\n",
    "y = df.target"
   ]
  },
  {
   "cell_type": "markdown",
   "metadata": {},
   "source": [
    "# IMPORTING LIBRARIES FOR ML ALGOS"
   ]
  },
  {
   "cell_type": "code",
   "execution_count": 6,
   "metadata": {},
   "outputs": [],
   "source": [
    "from sklearn.neighbors import KNeighborsClassifier\n",
    "from sklearn.svm import SVC\n",
    "from sklearn.linear_model import LogisticRegression\n",
    "from sklearn.tree import DecisionTreeClassifier\n",
    "from sklearn.naive_bayes import GaussianNB\n",
    "from sklearn.ensemble import RandomForestClassifier\n",
    "from sklearn.ensemble import GradientBoostingClassifier\n",
    "from sklearn.tree import DecisionTreeClassifier"
   ]
  },
  {
   "cell_type": "markdown",
   "metadata": {},
   "source": [
    "# CHECKING WHICH ALGO IS BETTER"
   ]
  },
  {
   "cell_type": "code",
   "execution_count": 7,
   "metadata": {},
   "outputs": [],
   "source": [
    "models = []\n",
    "models.append(('KNN', KNeighborsClassifier()))\n",
    "models.append(('SVC', SVC()))\n",
    "models.append(('LR', LogisticRegression()))\n",
    "models.append(('DT', DecisionTreeClassifier()))\n",
    "models.append(('GNB', GaussianNB()))\n",
    "models.append(('RF', RandomForestClassifier()))\n",
    "models.append(('DT',DecisionTreeClassifier()))\n"
   ]
  },
  {
   "cell_type": "code",
   "execution_count": 8,
   "metadata": {},
   "outputs": [],
   "source": [
    "from sklearn.model_selection import train_test_split\n",
    "from sklearn.model_selection import cross_val_score\n",
    "from sklearn.metrics import accuracy_score"
   ]
  },
  {
   "cell_type": "markdown",
   "metadata": {},
   "source": [
    "# SPLITTING DATASET INTO TRAINING AND TESTING"
   ]
  },
  {
   "cell_type": "code",
   "execution_count": 9,
   "metadata": {},
   "outputs": [],
   "source": [
    "X_train, X_test, y_train, y_test = train_test_split(X, y, stratify = df.target, random_state=0)\n"
   ]
  },
  {
   "cell_type": "code",
   "execution_count": 10,
   "metadata": {},
   "outputs": [
    {
     "name": "stdout",
     "output_type": "stream",
     "text": [
      "  Name     Score\n",
      "0  KNN  0.697368\n",
      "1  SVC  0.552632\n",
      "2   LR  0.881579\n",
      "3   DT  0.763158\n",
      "4  GNB  0.842105\n",
      "5   RF  0.802632\n",
      "6   DT  0.750000\n"
     ]
    },
    {
     "name": "stderr",
     "output_type": "stream",
     "text": [
      "C:\\Users\\Admin\\Anaconda3\\lib\\site-packages\\sklearn\\svm\\base.py:196: FutureWarning: The default value of gamma will change from 'auto' to 'scale' in version 0.22 to account better for unscaled features. Set gamma explicitly to 'auto' or 'scale' to avoid this warning.\n",
      "  \"avoid this warning.\", FutureWarning)\n",
      "C:\\Users\\Admin\\Anaconda3\\lib\\site-packages\\sklearn\\linear_model\\logistic.py:433: FutureWarning: Default solver will be changed to 'lbfgs' in 0.22. Specify a solver to silence this warning.\n",
      "  FutureWarning)\n",
      "C:\\Users\\Admin\\Anaconda3\\lib\\site-packages\\sklearn\\ensemble\\forest.py:246: FutureWarning: The default value of n_estimators will change from 10 in version 0.20 to 100 in 0.22.\n",
      "  \"10 in version 0.20 to 100 in 0.22.\", FutureWarning)\n"
     ]
    }
   ],
   "source": [
    "names = []\n",
    "scores = []\n",
    "for name, model in models:\n",
    "    model.fit(X_train, y_train)\n",
    "    y_pred = model.predict(X_test)\n",
    "    scores.append(accuracy_score(y_test, y_pred))\n",
    "    names.append(name)\n",
    "tr_split = pd.DataFrame({'Name': names, 'Score': scores})\n",
    "print(tr_split)"
   ]
  },
  {
   "cell_type": "code",
   "execution_count": 11,
   "metadata": {},
   "outputs": [],
   "source": [
    "from sklearn.metrics import confusion_matrix,classification_report"
   ]
  },
  {
   "cell_type": "code",
   "execution_count": 12,
   "metadata": {},
   "outputs": [
    {
     "name": "stdout",
     "output_type": "stream",
     "text": [
      "[[25 10]\n",
      " [ 9 32]]\n",
      "              precision    recall  f1-score   support\n",
      "\n",
      "           0       0.74      0.71      0.72        35\n",
      "           1       0.76      0.78      0.77        41\n",
      "\n",
      "   micro avg       0.75      0.75      0.75        76\n",
      "   macro avg       0.75      0.75      0.75        76\n",
      "weighted avg       0.75      0.75      0.75        76\n",
      "\n"
     ]
    }
   ],
   "source": [
    "matrix=confusion_matrix(y_test,y_pred)\n",
    "print(matrix)\n",
    "print(classification_report(y_test,y_pred))"
   ]
  },
  {
   "cell_type": "code",
   "execution_count": 13,
   "metadata": {},
   "outputs": [
    {
     "data": {
      "image/png": "[encoded data removed]",
      "text/plain": [
       "<Figure size 432x288 with 2 Axes>"
      ]
     },
     "metadata": {
      "needs_background": "light"
     },
     "output_type": "display_data"
    }
   ],
   "source": [
    "import seaborn as sn\n",
    "sn.heatmap(matrix, annot=True)\n",
    "plt.show()"
   ]
  },
  {
   "cell_type": "code",
   "execution_count": 18,
   "metadata": {},
   "outputs": [
    {
     "name": "stdout",
     "output_type": "stream",
     "text": [
      "Collecting pandas==0.23.4\n",
      "  Downloading https://files.pythonhosted.org/packages/58/a8/03e5fe0edbc522e46cb27df2abfb4266814129253d8462f38bc704a76a2a/pandas-0.23.4-cp37-cp37m-win_amd64.whl (7.9MB)\n",
      "Requirement already satisfied: numpy>=1.9.0 in c:\\users\\admin\\anaconda3\\lib\\site-packages (from pandas==0.23.4) (1.16.2)\n",
      "Requirement already satisfied: pytz>=2011k in c:\\users\\admin\\anaconda3\\lib\\site-packages (from pandas==0.23.4) (2018.9)\n",
      "Requirement already satisfied: python-dateutil>=2.5.0 in c:\\users\\admin\\anaconda3\\lib\\site-packages (from pandas==0.23.4) (2.8.0)\n",
      "Requirement already satisfied: six>=1.5 in c:\\users\\admin\\anaconda3\\lib\\site-packages (from python-dateutil>=2.5.0->pandas==0.23.4) (1.12.0)\n",
      "Installing collected packages: pandas\n",
      "  Found existing installation: pandas 0.24.2\n",
      "    Uninstalling pandas-0.24.2:\n",
      "      Successfully uninstalled pandas-0.24.2\n",
      "Note: you may need to restart the kernel to use updated packages.\n"
     ]
    },
    {
     "name": "stderr",
     "output_type": "stream",
     "text": [
      "Could not install packages due to an EnvironmentError: [WinError 5] Access is denied: 'c:\\\\users\\\\admin\\\\anaconda3\\\\lib\\\\site-packages\\\\~andas\\\\io\\\\msgpack\\\\_packer.cp37-win_amd64.pyd'\n",
      "Consider using the `--user` option or check the permissions.\n",
      "\n"
     ]
    }
   ],
   "source": [
    " pip install pandas==0.23.4"
   ]
  },
  {
   "cell_type": "markdown",
   "metadata": {},
   "source": [
    "# CODE FOR TKINTER "
   ]
  },
  {
   "cell_type": "code",
   "execution_count": 53,
   "metadata": {},
   "outputs": [],
   "source": [
    "from tkinter import *\n",
    "import pandas as pd\n",
    "from sklearn.model_selection import train_test_split\n",
    "import pickle\n",
    "from sklearn.ensemble import RandomForestClassifier\n",
    "\n",
    "\n",
    "def prediction_model():\n",
    "    x = [[int(entry_1.get()), int(entry_2.get()), int(entry_3.get()), int(entry_4.get()), int(entry_5.get()), int(entry_6.get()), int(entry_7.get()), int(entry_8.get()), int(entry_9.get()), float(entry_10.get()), int(entry_11.get()), int(entry_12.get()), int(entry_13.get())]]\n",
    "    #randomforest = pickle.load(open('model.sav', 'rb'))\n",
    "    predictions = randomforest.predict(x)\n",
    "    if predictions==0:\n",
    "        myText.set('  😄 Less chance of Heart Stroke  😄 ')\n",
    "    else:\n",
    "        myText.set('High chance of Heart Stroke.Take Care')\n"
   ]
  },
  {
   "cell_type": "code",
   "execution_count": 55,
   "metadata": {},
   "outputs": [
    {
     "name": "stderr",
     "output_type": "stream",
     "text": [
      "C:\\Users\\Admin\\Anaconda3\\lib\\site-packages\\sklearn\\ensemble\\forest.py:246: FutureWarning: The default value of n_estimators will change from 10 in version 0.20 to 100 in 0.22.\n",
      "  \"10 in version 0.20 to 100 in 0.22.\", FutureWarning)\n"
     ]
    }
   ],
   "source": [
    "\n",
    "predictors = df.drop(['target'], axis=1)\n",
    "target = df[\"target\"]\n",
    "x_train, x_val, y_train, y_val = train_test_split(predictors, target, test_size = 0.22, random_state = 0)\n",
    "randomforest = RandomForestClassifier()\n",
    "randomforest.fit(x_train, y_train)\n",
    "y_pred = randomforest.predict(x_val)\n",
    "\n",
    "\n",
    "\n",
    "win=Tk()\n",
    "win.geometry(\"550x780\")\n",
    "win.title(\"Heart Stroke Predictor\")\n",
    "win['background']='yellow'\n",
    "regTitle=Label(win,text=\"Patient Details\",width=20,font=(\"bold\",30),bg='yellow',fg='black')\n",
    "age=name=Label(win,text=\"Age:\",width=50,font=(\"bold\",13),bg='yellow')\n",
    "sex=Label(win,text=\"Sex(0=Male,1=Female):\",width=50,font=(\"bold\",13),bg='yellow')\n",
    "cp=Label(win,text=\"Chest pain type(0,1,2,3):\",width=50,font=(\"bold\",13),bg='yellow')\n",
    "trestbps=Label(win,text=\"Resting blood pressure:\",width=50,font=(\"bold\",13),bg='yellow')\n",
    "chol=Label(win,text=\"Serum cholestoral in mg/dl:\",width=50,font=(\"bold\",13),bg='yellow')\n",
    "fbs=Label(win,text=\"Fasting blood sugar > 120 mg/dl:\",width=50,font=(\"bold\",13),bg='yellow')\n",
    "restecg=Label(win,text=\"Resting electrocardiographic results (values 0,1,2):\",width=50,font=(\"bold\",13),bg='yellow')\n",
    "thalach=Label(win,text=\"Maximum heart rate achieved:\",width=50,font=(\"bold\",13),bg='yellow')\n",
    "exang=Label(win,text=\"Exercise induced angina:\",width=50,font=(\"bold\",13),bg='yellow')\n",
    "oldpeak=Label(win,text=\"Oldpeak:\",width=50,font=(\"bold\",13),bg='yellow')\n",
    "slope=Label(win,text=\"The slope of the peak exercise ST segment:\",width=50,font=(\"bold\",13),bg='yellow')\n",
    "ca=Label(win,text=\"Number of major vessels (0-3) colored by flourosopy:\",width=50,font=(\"bold\",13),bg='yellow')\n",
    "thal=Label(win,text=\"thal( 0 = normal; 1 = fixed defect; 2 = reversable defect):\",width=50,font=(\"bold\",13),bg='yellow')\n",
    "\n",
    "entry_1=Entry(win,width=10)\n",
    "entry_2=Entry(win,width=10)\n",
    "entry_3=Entry(win,width=10)\n",
    "entry_4=Entry(win,width=10)\n",
    "entry_5=Entry(win,width=10)\n",
    "entry_6=Entry(win,width=10)\n",
    "entry_7=Entry(win,width=10)\n",
    "entry_8=Entry(win,width=10)\n",
    "entry_9=Entry(win,width=10)\n",
    "entry_10=Entry(win,width=10)\n",
    "entry_11=Entry(win,width=10)\n",
    "entry_12=Entry(win,width=10)\n",
    "entry_13=Entry(win,width=10)\n",
    "\n",
    "regTitle.grid(row=0,pady=10)\n",
    "age.grid(row=2, pady=10)\n",
    "sex.grid(row=4, pady=10)\n",
    "cp.grid(row=6, pady=10)\n",
    "trestbps.grid(row=8, pady=10)\n",
    "chol.grid(row=10, pady=10)\n",
    "fbs.grid(row=12, pady=10)\n",
    "restecg.grid(row=14, pady=10)\n",
    "thalach.grid(row=16, pady=10)\n",
    "exang.grid(row=18, pady=10)\n",
    "oldpeak.grid(row=20, pady=10)\n",
    "slope.grid(row=22, pady=10)\n",
    "ca.grid(row=24, pady=10)\n",
    "thal.grid(row=26, pady=10)\n",
    "entry_1.grid(row=2,column=1, pady=10)\n",
    "entry_2.grid(row=4,column=1, pady=10)\n",
    "entry_3.grid(row=6,column=1, pady=10)\n",
    "entry_4.grid(row=8,column=1, pady=10)\n",
    "entry_5.grid(row=10,column=1, pady=10)\n",
    "entry_6.grid(row=12,column=1, pady=10)\n",
    "entry_7.grid(row=14,column=1, pady=10)\n",
    "entry_8.grid(row=16,column=1, pady=10)\n",
    "entry_9.grid(row=18,column=1, pady=10)\n",
    "entry_10.grid(row=20,column=1, pady=10)\n",
    "entry_11.grid(row=22,column=1, pady=10)\n",
    "entry_12.grid(row=24,column=1, pady=10)\n",
    "entry_13.grid(row=26,column=1, pady=10)\n",
    "\n",
    "myText = StringVar();\n",
    "but = Button(win, text=\"Predict\",width=20,font=(\"bold\",13),bg='black',fg='white', command=prediction_model)\n",
    "but.grid(row=28,columnspan=2, pady=10)\n",
    "result = Label(win, text=\"\",width=50,font=(\"bold\",25), textvariable=myText,bg='yellow',fg='black').grid(row=29)\n",
    "\n",
    "win.mainloop()"
   ]
  },
  {
   "cell_type": "code",
   "execution_count": null,
   "metadata": {},
   "outputs": [],
   "source": []
  },
  {
   "cell_type": "code",
   "execution_count": null,
   "metadata": {},
   "outputs": [],
   "source": []
  }
 ],
 "metadata": {
  "kernelspec": {
   "display_name": "Python 3",
   "language": "python",
   "name": "python3"
  },
  "language_info": {
   "codemirror_mode": {
    "name": "ipython",
    "version": 3
   },
   "file_extension": ".py",
   "mimetype": "text/x-python",
   "name": "python",
   "nbconvert_exporter": "python",
   "pygments_lexer": "ipython3",
   "version": "3.7.3"
  }
 },
 "nbformat": 4,
 "nbformat_minor": 2
}
